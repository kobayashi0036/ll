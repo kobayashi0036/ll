{
 "cells": [
  {
   "cell_type": "markdown",
   "id": "7b7aad02",
   "metadata": {},
   "source": [
    "# レッスン０\n",
    "- VS Codeの基本的な書き方"
   ]
  },
  {
   "cell_type": "code",
   "execution_count": null,
   "id": "cddbb648",
   "metadata": {},
   "outputs": [
    {
     "name": "stdout",
     "output_type": "stream",
     "text": [
      "Hello! World!\n"
     ]
    }
   ],
   "source": [
    "print(\"Hello! World!\")\n",
    "print(\"こんにちは！　世界！\")"
   ]
  }
 ],
 "metadata": {
  "kernelspec": {
   "display_name": ".venv",
   "language": "python",
   "name": "python3"
  },
  "language_info": {
   "codemirror_mode": {
    "name": "ipython",
    "version": 3
   },
   "file_extension": ".py",
   "mimetype": "text/x-python",
   "name": "python",
   "nbconvert_exporter": "python",
   "pygments_lexer": "ipython3",
   "version": "3.12.7"
  }
 },
 "nbformat": 4,
 "nbformat_minor": 5
}
